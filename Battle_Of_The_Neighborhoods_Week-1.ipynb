{
 "cells": [
  {
   "cell_type": "markdown",
   "metadata": {},
   "source": [
    "# Introduction\n",
    "\n",
    "The purpose of this project is to help people in Toronto explore facilities around their neighborhood. The project aims to facilitate an easy way for consumers to choose a neighborhood throughout many in Scarborough, Toronto.\n",
    "\n",
    "Toronto is one of the biggest cosmopolitan cities in the world and a has a lot of new immigrants every year.Through this capstone project, immigrants will have an easier time to determine potential neighborhoods of interest. For example, factors such as easy access to Cafes, Schools, hospitals, etc will be taken into account. This being said, immigirants and people who have recently moved into Toronto can be said to be main target consumer for this project.\n",
    "\n",
    "The project will compare different features present in each neighborhood to help the consumer make the best descision. Features include median household income, school ratings, crime ratings, road connectivity, weather conditions, sewage treatment, and recreational facities.\n"
   ]
  },
  {
   "cell_type": "markdown",
   "metadata": {},
   "source": [
    "# Data Collection\n",
    "\n",
    "Data Link: https://en.wikipedia.org/wiki/List_of_postal_codes_of_Canada:_M\n",
    "\n",
    "I will be utilizing the Scarborough dataset from week three. This dataset consists of the latitude, longitude, and zip code.\n",
    "\n",
    "**Foursquare and API data:**\n",
    "\n",
    "After extracting a list of neighborhoods from the wiki page, I will use foursquare API to gather specifics on potential venues of interest in the neighborhoods around Toronto. The selected around each neighborhood will be 100 meters.\n",
    "\n",
    "The following information from each venue will be extracted and analyzed:\n",
    "\n",
    "1. Neighborhood\n",
    "2. Neighborhood Latitude\n",
    "3. Neighborhood Longitude\n",
    "4. Venue\n",
    "5. Name of the venue e.g. the name of a store or restaurant\n",
    "6. Venue Latitude\n",
    "7. Venue Longitude\n",
    "8. Venue Category\n"
   ]
  },
  {
   "cell_type": "code",
   "execution_count": null,
   "metadata": {},
   "outputs": [],
   "source": []
  }
 ],
 "metadata": {
  "kernelspec": {
   "display_name": "Python 3",
   "language": "python",
   "name": "python3"
  },
  "language_info": {
   "codemirror_mode": {
    "name": "ipython",
    "version": 3
   },
   "file_extension": ".py",
   "mimetype": "text/x-python",
   "name": "python",
   "nbconvert_exporter": "python",
   "pygments_lexer": "ipython3",
   "version": "3.7.3"
  }
 },
 "nbformat": 4,
 "nbformat_minor": 4
}

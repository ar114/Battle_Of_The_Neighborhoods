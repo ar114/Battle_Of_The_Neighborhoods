{
 "cells": [
  {
   "cell_type": "markdown",
   "metadata": {},
   "source": [
    "# Introduction\n",
    "\n",
    "The purpose of this project is to help people in Toronto explore facilities around their neighborhood. The project aims to facilitate an easy way for consumers to choose a neighborhood throughout many in Scarborough, Toronto.\n",
    "\n",
    "Toronto is one of the biggest cosmopolitan cities in the world and a has a lot of new immigrants every year.Through this capstone project, immigrants will have an easier time to determine potential neighborhoods of interest. For example, factors such as easy access to Cafes, Schools, hospitals, etc will be taken into account. This being said, immigirants and people who have recently moved into Toronto can be said to be the main target consumer for this project.\n",
    "\n",
    "The project will compare different features present in each neighborhood to help the consumer make the best descision. Features include median household income, school ratings, crime ratings, road connectivity, weather conditions, sewage treatment, and recreational facities.\n"
   ]
  },
  {
   "cell_type": "markdown",
   "metadata": {},
   "source": [
    "# Data Collection\n",
    "\n",
    "Data Link: https://en.wikipedia.org/wiki/List_of_postal_codes_of_Canada:_M\n",
    "\n",
    "I will be utilizing the Scarborough dataset from week three. This dataset consists of the latitude, longitude, and zip code.\n",
    "\n",
    "**Foursquare and API data:**\n",
    "\n",
    "After extracting a list of neighborhoods from the wiki page, I will use foursquare API to gather specifics on potential venues of interest in the neighborhoods around Toronto. The selected around each neighborhood will be 100 meters.\n",
    "\n",
    "The following information from each venue will be extracted and analyzed:\n",
    "\n",
    "1. Neighborhood\n",
    "2. Neighborhood Latitude\n",
    "3. Neighborhood Longitude\n",
    "4. Venue\n",
    "5. Name of the venue e.g. the name of a store or restaurant\n",
    "6. Venue Latitude\n",
    "7. Venue Longitude\n",
    "8. Venue Category\n"
   ]
  },
  {
   "cell_type": "markdown",
   "metadata": {},
   "source": [
    "**Map of Scarborough**"
   ]
  },
  {
   "cell_type": "markdown",
   "metadata": {},
   "source": [
    "![](Capture.png)"
   ]
  },
  {
   "cell_type": "markdown",
   "metadata": {},
   "source": [
    "# Methodology\n",
    "\n",
    "**Clustering Approach:**\n",
    "\n",
    "To compare the similarities of two cities, we decided to explore neighborhoods, segment them, and group them into clusters to find similar neighborhoods in a big city like New York and Toronto. To be able to do that, we need to cluster data which is a form of unsupervised machine learning: k-means clustering algorithm."
   ]
  },
  {
   "cell_type": "markdown",
   "metadata": {},
   "source": [
    "![](Capture2.png)"
   ]
  },
  {
   "cell_type": "markdown",
   "metadata": {},
   "source": [
    "**Most Common Venues Near Neighborhood**"
   ]
  },
  {
   "cell_type": "markdown",
   "metadata": {},
   "source": [
    "![](Capture3.png)"
   ]
  },
  {
   "cell_type": "markdown",
   "metadata": {},
   "source": [
    "**Work Flow**\n",
    "\n",
    "Using credentials of Foursquare API features of near-by places of the neighborhoods would be mined. Due to http request limitations the number of places per neighborhood parameter would reasonably be set to 100 and the radius parameter would be set to 500."
   ]
  },
  {
   "cell_type": "markdown",
   "metadata": {},
   "source": [
    "# Results\n",
    "\n",
    "**Map of Clusters in Scarborough**\n",
    "\n",
    "![](Capture4.png)\n",
    "\n",
    "**Avergae Housing Price by Clusters in Scarborough**\n",
    "\n",
    "\n",
    "![](Capture5.png)\n"
   ]
  },
  {
   "cell_type": "markdown",
   "metadata": {},
   "source": [
    "**School Ratings by Clusters in Scarborough**\n",
    "\n",
    "![](Capture6.png)\n"
   ]
  },
  {
   "cell_type": "markdown",
   "metadata": {},
   "source": [
    "**Location**\n",
    "\n",
    "Scarborough is a popular destination for new immigrants in Canada to reside. As a result, it is one of the most cosomopolitan areas in the Greater Toronto Area with home to many houses of worship. Toronto has become an immigrant hot spot considering the easing regulations compared to other countries such as the United States."
   ]
  },
  {
   "cell_type": "markdown",
   "metadata": {},
   "source": [
    "**Foursquare API**\n",
    "\n",
    "This project utilizes Four-square API as its prime data gathering source as it has a database of millions of places which provides the ability to perform location search, location sharing and further details about local business.\n"
   ]
  },
  {
   "cell_type": "markdown",
   "metadata": {},
   "source": [
    "# Discussion\n",
    "\n",
    "**Problem to Solve**\n",
    "\n",
    "The purpose of this project is to suggest potential neighborhoods that immigrants can consider while moving into the Toronto metropotian area. This was done by consider the facilities in each neighborhood and ease of access to public transport, grocery stores, cafes, etc.\n",
    "\n",
    "I did this by doing the following:\n",
    "\n",
    "1. Sorted list of house in terms of housing prices in a ascending or descending order\n",
    "2. Sorted list of schools in terms of location, fees, rating and reviews\n"
   ]
  },
  {
   "cell_type": "markdown",
   "metadata": {},
   "source": [
    "# Conclusion\n",
    "\n",
    "In this project, I used k-means cluster algorithm to seperate the neighborhoods into 10(Ten) different clusters with 103 different lattitudes and logitudes extracted from the dataset. I utilized the extracted data and results to plot charts that highlight average house prices and school ratings.\n",
    "\n",
    "**Further Scope**\n",
    "\n",
    "This project can be used as a basis for comparing many other ammenties in the neighborhood. Also, it can be used to justify why certain neighboords are more expensive than others.\n",
    "\n",
    "**Libraries used in this Project:\n",
    "\n",
    "Pandas: For creating and manipulating dataframes.\n",
    "\n",
    "Folium: Python visualization library would be used to visualize the neighborhoods cluster distribution of using interactive leaflet map.\n",
    "\n",
    "Scikit Learn: For importing k-means clustering.\n",
    "\n",
    "JSON: Library to handle JSON files.\n",
    "\n",
    "XML: To separate data from presentation and XML stores data in plain text format.\n",
    "\n",
    "Geocoder: To retrieve Location Data.\n",
    "\n",
    "Beautiful Soup and Requests: To scrap and library to handle http requests.\n",
    "\n",
    "Matplotlib: Python Plotting Module.\n",
    "\n"
   ]
  },
  {
   "cell_type": "code",
   "execution_count": null,
   "metadata": {},
   "outputs": [],
   "source": []
  }
 ],
 "metadata": {
  "kernelspec": {
   "display_name": "Python 3",
   "language": "python",
   "name": "python3"
  },
  "language_info": {
   "codemirror_mode": {
    "name": "ipython",
    "version": 3
   },
   "file_extension": ".py",
   "mimetype": "text/x-python",
   "name": "python",
   "nbconvert_exporter": "python",
   "pygments_lexer": "ipython3",
   "version": "3.7.3"
  }
 },
 "nbformat": 4,
 "nbformat_minor": 4
}
